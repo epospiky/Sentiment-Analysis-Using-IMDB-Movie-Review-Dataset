{
 "cells": [
  {
   "cell_type": "code",
   "execution_count": 1,
   "id": "2fa2be8d",
   "metadata": {},
   "outputs": [],
   "source": [
    "import pandas as pd"
   ]
  },
  {
   "cell_type": "code",
   "execution_count": 2,
   "id": "c4067ec1",
   "metadata": {},
   "outputs": [],
   "source": [
    "#load dataset\n",
    "df = pd.read_csv(\"train_data.csv\")\n",
    "df2 = pd.read_csv(\"test_data.csv\")"
   ]
  },
  {
   "cell_type": "code",
   "execution_count": 3,
   "id": "715c4a21",
   "metadata": {},
   "outputs": [
    {
     "name": "stdout",
     "output_type": "stream",
     "text": [
      "                                         review_text sentiment_label\n",
      "0  Bromwell High is a cartoon comedy. It ran at t...        positive\n",
      "1  Homelessness (or Houselessness as George Carli...        positive\n",
      "2  Brilliant over-acting by Lesley Ann Warren. Be...        positive\n",
      "3  This is easily the most underrated film inn th...        positive\n",
      "4  This is not the typical Mel Brooks film. It wa...        positive\n"
     ]
    }
   ],
   "source": [
    "#display the first 5 rows of the dataset\n",
    "print(df.head())"
   ]
  },
  {
   "cell_type": "code",
   "execution_count": 4,
   "id": "8a7e79c2",
   "metadata": {},
   "outputs": [
    {
     "name": "stdout",
     "output_type": "stream",
     "text": [
      "Index(['review_text', 'sentiment_label'], dtype='object')\n"
     ]
    }
   ],
   "source": [
    "#displaying the column names\n",
    "print(df.columns)"
   ]
  },
  {
   "cell_type": "code",
   "execution_count": 5,
   "id": "f9801dfd",
   "metadata": {},
   "outputs": [
    {
     "name": "stdout",
     "output_type": "stream",
     "text": [
      "['positive' 'negative']\n"
     ]
    }
   ],
   "source": [
    "#accessing unique labels values\n",
    "train_labels = df['sentiment_label']\n",
    "print(train_labels.unique())\n",
    "\n",
    "test_labels = df2['sentiment_label']"
   ]
  },
  {
   "cell_type": "code",
   "execution_count": 6,
   "id": "387190ee",
   "metadata": {},
   "outputs": [
    {
     "name": "stdout",
     "output_type": "stream",
     "text": [
      "sentiment_label\n",
      "positive    12500\n",
      "negative    12500\n",
      "Name: count, dtype: int64\n"
     ]
    }
   ],
   "source": [
    "#counting the number of occurrence of each labels\n",
    "label_counts = train_labels.value_counts()\n",
    "print(label_counts)"
   ]
  },
  {
   "cell_type": "code",
   "execution_count": 7,
   "id": "c408fa88",
   "metadata": {},
   "outputs": [
    {
     "data": {
      "image/png": "[encoded data removed]",
      "text/plain": [
       "<Figure size 800x600 with 1 Axes>"
      ]
     },
     "metadata": {},
     "output_type": "display_data"
    }
   ],
   "source": [
    "##Visualizing label distribution\n",
    "import matplotlib.pyplot as plt\n",
    "\n",
    "plt.figure(figsize = (8, 6))\n",
    "label_counts.plot(kind = 'bar', color = 'skyblue')\n",
    "plt.title('Distribution of Sentiment Labels')\n",
    "plt.xlabel('Sentiment')\n",
    "plt.ylabel('Count')\n",
    "plt.xticks(rotation=0)\n",
    "plt.show()"
   ]
  },
  {
   "cell_type": "markdown",
   "id": "bc884463",
   "metadata": {},
   "source": [
    "# Dataset Preprocessing"
   ]
  },
  {
   "cell_type": "code",
   "execution_count": null,
   "id": "54d43c7a",
   "metadata": {},
   "outputs": [],
   "source": []
  },
  {
   "cell_type": "code",
   "execution_count": 8,
   "id": "0900e87f",
   "metadata": {},
   "outputs": [],
   "source": [
    "from nltk.tokenize import word_tokenize\n",
    "\n",
    "#Tokenize the train text data\n",
    "tokenized_train_reviews = [word_tokenize(train_review) for train_review in df['review_text']]\n",
    "#Tokenize the test text data\n",
    "tokenized_test_reviews = [word_tokenize(test_review) for test_review in df['review_text']]"
   ]
  },
  {
   "cell_type": "code",
   "execution_count": 9,
   "id": "cb29dff5",
   "metadata": {},
   "outputs": [
    {
     "name": "stderr",
     "output_type": "stream",
     "text": [
      "IOPub data rate exceeded.\n",
      "The notebook server will temporarily stop sending output\n",
      "to the client in order to avoid crashing it.\n",
      "To change this limit, set the config variable\n",
      "`--NotebookApp.iopub_data_rate_limit`.\n",
      "\n",
      "Current values:\n",
      "NotebookApp.iopub_data_rate_limit=1000000.0 (bytes/sec)\n",
      "NotebookApp.rate_limit_window=3.0 (secs)\n",
      "\n"
     ]
    }
   ],
   "source": [
    "print(tokenized_train_reviews)"
   ]
  },
  {
   "cell_type": "code",
   "execution_count": 10,
   "id": "35249a62",
   "metadata": {},
   "outputs": [
    {
     "name": "stdout",
     "output_type": "stream",
     "text": [
      "[1 1 1 ... 0 0 0]\n",
      "[1 1 1 ... 0 0 0]\n"
     ]
    }
   ],
   "source": [
    "from sklearn.preprocessing import LabelEncoder\n",
    "\n",
    "# Initialize LabelEncoder\n",
    "label_encoder = LabelEncoder()\n",
    "\n",
    "# Fit LabelEncoder on the string labels and transform them into numerical labels\n",
    "train_labels = label_encoder.fit_transform(train_labels)\n",
    "test_labels = label_encoder.fit_transform(test_labels)\n",
    "# Print the unique numerical labels\n",
    "print(train_labels)\n",
    "print(train_labels)"
   ]
  },
  {
   "cell_type": "code",
   "execution_count": 11,
   "id": "1042cb0e",
   "metadata": {},
   "outputs": [],
   "source": [
    "import numpy as np"
   ]
  },
  {
   "cell_type": "code",
   "execution_count": 12,
   "id": "24dc7e02",
   "metadata": {},
   "outputs": [],
   "source": [
    "import re\n",
    "\n",
    "def clean_text(text):\n",
    "    #Remove HTML tags\n",
    "    clean_text = re.sub(r'<.*?>', '', text)\n",
    "    #Remove special characters, punctuations and white space\n",
    "    clean_text = re.sub(r'[^a-zA-Z\\s]', '', clean_text)\n",
    "    return clean_text\n",
    "#concatenate tokens with each review into a single string\n",
    "concatenated_train_reviews = [' '.join(train_review) for train_review in tokenized_train_reviews ]\n",
    "#clean the text data\n",
    "cleaned_train_reviews = [clean_text(train_review) for train_review in concatenated_train_reviews]\n",
    "\n",
    "#implementing the same for test data\n",
    "#concatenate tokens with each review into a single string\n",
    "concatenated_test_reviews = [' '.join(test_review) for test_review in tokenized_test_reviews ]\n",
    "#clean the text data\n",
    "cleaned_test_reviews = [clean_text(test_review) for test_review in concatenated_test_reviews]"
   ]
  },
  {
   "cell_type": "code",
   "execution_count": 13,
   "id": "ba1ce5c6",
   "metadata": {},
   "outputs": [],
   "source": [
    "from nltk.corpus import stopwords\n",
    "\n",
    "stop_words = set(stopwords.words('english'))\n",
    "\n",
    "def remove_stopwords(tokens):\n",
    "    filtered_tokens = [token for token in tokens if token not in stop_words]\n",
    "    return filtered_tokens\n",
    "\n",
    "#Remove stopwords from tokenized reviews if any\n",
    "filtered_train_reviews = [remove_stopwords(train_review) for train_review in tokenized_train_reviews]\n",
    "filtered_test_reviews = [remove_stopwords(test_review) for test_review in tokenized_test_reviews]"
   ]
  },
  {
   "cell_type": "code",
   "execution_count": 14,
   "id": "eca52e2a",
   "metadata": {},
   "outputs": [
    {
     "name": "stderr",
     "output_type": "stream",
     "text": [
      "IOPub data rate exceeded.\n",
      "The notebook server will temporarily stop sending output\n",
      "to the client in order to avoid crashing it.\n",
      "To change this limit, set the config variable\n",
      "`--NotebookApp.iopub_data_rate_limit`.\n",
      "\n",
      "Current values:\n",
      "NotebookApp.iopub_data_rate_limit=1000000.0 (bytes/sec)\n",
      "NotebookApp.rate_limit_window=3.0 (secs)\n",
      "\n"
     ]
    }
   ],
   "source": [
    "print(filtered_train_reviews)"
   ]
  },
  {
   "cell_type": "code",
   "execution_count": 15,
   "id": "c6053fc6",
   "metadata": {},
   "outputs": [],
   "source": [
    "def normalize_text(tokens):\n",
    "    normalized_tokens = [token.lower() for token in tokens]\n",
    "    return normalized_tokens\n",
    "\n",
    "#Normalize the tokenized reviews\n",
    "normalized_train_reviews = [normalize_text(train_review) for train_review in filtered_train_reviews]\n",
    "normalized_train_reviews_str = [' '.join(train_review) for train_review in normalized_train_reviews]\n",
    "\n",
    "#Same for test data\n",
    "normalized_test_reviews = [normalize_text(test_review) for test_review in filtered_test_reviews]\n",
    "normalized_test_reviews_str = [' '.join(test_review) for test_review in normalized_test_reviews]"
   ]
  },
  {
   "cell_type": "markdown",
   "id": "1cb1d1ac",
   "metadata": {},
   "source": [
    "# Dataset Preparation"
   ]
  },
  {
   "cell_type": "markdown",
   "id": "e6ae2ae6",
   "metadata": {},
   "source": [
    "###### The following steps involves Converting the process dataset to into numerical representation particarly Bag-of-words. The original dataset already contains the Bag-of-words but for the sake of knowledge and control over the dataset I decided to redo the process."
   ]
  },
  {
   "cell_type": "code",
   "execution_count": 16,
   "id": "5b37501a",
   "metadata": {},
   "outputs": [],
   "source": [
    "from sklearn.feature_extraction.text import CountVectorizer"
   ]
  },
  {
   "cell_type": "code",
   "execution_count": 17,
   "id": "48cd7899",
   "metadata": {},
   "outputs": [],
   "source": [
    "#initialize the countVectorizer\n",
    "vectorizer = CountVectorizer(max_features = 5000)\n",
    "\n",
    "#combine the normalized text data from both training and testing sets\n",
    "normalized_reviews_str = normalized_train_reviews_str + normalized_test_reviews_str\n",
    "\n",
    "#fit the vectorizer on the combined text data\n",
    "vectorizer.fit(normalized_reviews_str)\n",
    "\n",
    "#Transform the preprocessed text data into bag of words vector for both training and testing sets\n",
    "X_train_bow = vectorizer.transform(normalized_train_reviews_str)\n",
    "X_test_bow = vectorizer.transform(normalized_test_reviews_str)"
   ]
  },
  {
   "cell_type": "markdown",
   "id": "748097a5",
   "metadata": {},
   "source": [
    "# Model Building"
   ]
  },
  {
   "cell_type": "markdown",
   "id": "c6c692c1",
   "metadata": {},
   "source": [
    "###### Using Logistic Regression"
   ]
  },
  {
   "cell_type": "code",
   "execution_count": 18,
   "id": "6b63dd7c",
   "metadata": {},
   "outputs": [],
   "source": [
    "from sklearn.linear_model import LogisticRegression"
   ]
  },
  {
   "cell_type": "code",
   "execution_count": 19,
   "id": "91fa0c3b",
   "metadata": {},
   "outputs": [],
   "source": [
    "#Initialize the logistic Regression Model\n",
    "model = LogisticRegression()"
   ]
  },
  {
   "cell_type": "code",
   "execution_count": 20,
   "id": "e9470313",
   "metadata": {},
   "outputs": [
    {
     "name": "stderr",
     "output_type": "stream",
     "text": [
      "C:\\Users\\Admin\\AppData\\Local\\Programs\\Python\\Python311\\Lib\\site-packages\\sklearn\\linear_model\\_logistic.py:458: ConvergenceWarning: lbfgs failed to converge (status=1):\n",
      "STOP: TOTAL NO. of ITERATIONS REACHED LIMIT.\n",
      "\n",
      "Increase the number of iterations (max_iter) or scale the data as shown in:\n",
      "    https://scikit-learn.org/stable/modules/preprocessing.html\n",
      "Please also refer to the documentation for alternative solver options:\n",
      "    https://scikit-learn.org/stable/modules/linear_model.html#logistic-regression\n",
      "  n_iter_i = _check_optimize_result(\n"
     ]
    },
    {
     "data": {
      "text/html": [
       "<style>#sk-container-id-1 {color: black;background-color: white;}#sk-container-id-1 pre{padding: 0;}#sk-container-id-1 div.sk-toggleable {background-color: white;}#sk-container-id-1 label.sk-toggleable__label {cursor: pointer;display: block;width: 100%;margin-bottom: 0;padding: 0.3em;box-sizing: border-box;text-align: center;}#sk-container-id-1 label.sk-toggleable__label-arrow:before {content: \"▸\";float: left;margin-right: 0.25em;color: #696969;}#sk-container-id-1 label.sk-toggleable__label-arrow:hover:before {color: black;}#sk-container-id-1 div.sk-estimator:hover label.sk-toggleable__label-arrow:before {color: black;}#sk-container-id-1 div.sk-toggleable__content {max-height: 0;max-width: 0;overflow: hidden;text-align: left;background-color: #f0f8ff;}#sk-container-id-1 div.sk-toggleable__content pre {margin: 0.2em;color: black;border-radius: 0.25em;background-color: #f0f8ff;}#sk-container-id-1 input.sk-toggleable__control:checked~div.sk-toggleable__content {max-height: 200px;max-width: 100%;overflow: auto;}#sk-container-id-1 input.sk-toggleable__control:checked~label.sk-toggleable__label-arrow:before {content: \"▾\";}#sk-container-id-1 div.sk-estimator input.sk-toggleable__control:checked~label.sk-toggleable__label {background-color: #d4ebff;}#sk-container-id-1 div.sk-label input.sk-toggleable__control:checked~label.sk-toggleable__label {background-color: #d4ebff;}#sk-container-id-1 input.sk-hidden--visually {border: 0;clip: rect(1px 1px 1px 1px);clip: rect(1px, 1px, 1px, 1px);height: 1px;margin: -1px;overflow: hidden;padding: 0;position: absolute;width: 1px;}#sk-container-id-1 div.sk-estimator {font-family: monospace;background-color: #f0f8ff;border: 1px dotted black;border-radius: 0.25em;box-sizing: border-box;margin-bottom: 0.5em;}#sk-container-id-1 div.sk-estimator:hover {background-color: #d4ebff;}#sk-container-id-1 div.sk-parallel-item::after {content: \"\";width: 100%;border-bottom: 1px solid gray;flex-grow: 1;}#sk-container-id-1 div.sk-label:hover label.sk-toggleable__label {background-color: #d4ebff;}#sk-container-id-1 div.sk-serial::before {content: \"\";position: absolute;border-left: 1px solid gray;box-sizing: border-box;top: 0;bottom: 0;left: 50%;z-index: 0;}#sk-container-id-1 div.sk-serial {display: flex;flex-direction: column;align-items: center;background-color: white;padding-right: 0.2em;padding-left: 0.2em;position: relative;}#sk-container-id-1 div.sk-item {position: relative;z-index: 1;}#sk-container-id-1 div.sk-parallel {display: flex;align-items: stretch;justify-content: center;background-color: white;position: relative;}#sk-container-id-1 div.sk-item::before, #sk-container-id-1 div.sk-parallel-item::before {content: \"\";position: absolute;border-left: 1px solid gray;box-sizing: border-box;top: 0;bottom: 0;left: 50%;z-index: -1;}#sk-container-id-1 div.sk-parallel-item {display: flex;flex-direction: column;z-index: 1;position: relative;background-color: white;}#sk-container-id-1 div.sk-parallel-item:first-child::after {align-self: flex-end;width: 50%;}#sk-container-id-1 div.sk-parallel-item:last-child::after {align-self: flex-start;width: 50%;}#sk-container-id-1 div.sk-parallel-item:only-child::after {width: 0;}#sk-container-id-1 div.sk-dashed-wrapped {border: 1px dashed gray;margin: 0 0.4em 0.5em 0.4em;box-sizing: border-box;padding-bottom: 0.4em;background-color: white;}#sk-container-id-1 div.sk-label label {font-family: monospace;font-weight: bold;display: inline-block;line-height: 1.2em;}#sk-container-id-1 div.sk-label-container {text-align: center;}#sk-container-id-1 div.sk-container {/* jupyter's `normalize.less` sets `[hidden] { display: none; }` but bootstrap.min.css set `[hidden] { display: none !important; }` so we also need the `!important` here to be able to override the default hidden behavior on the sphinx rendered scikit-learn.org. See: https://github.com/scikit-learn/scikit-learn/issues/21755 */display: inline-block !important;position: relative;}#sk-container-id-1 div.sk-text-repr-fallback {display: none;}</style><div id=\"sk-container-id-1\" class=\"sk-top-container\"><div class=\"sk-text-repr-fallback\"><pre>LogisticRegression()</pre><b>In a Jupyter environment, please rerun this cell to show the HTML representation or trust the notebook. <br />On GitHub, the HTML representation is unable to render, please try loading this page with nbviewer.org.</b></div><div class=\"sk-container\" hidden><div class=\"sk-item\"><div class=\"sk-estimator sk-toggleable\"><input class=\"sk-toggleable__control sk-hidden--visually\" id=\"sk-estimator-id-1\" type=\"checkbox\" checked><label for=\"sk-estimator-id-1\" class=\"sk-toggleable__label sk-toggleable__label-arrow\">LogisticRegression</label><div class=\"sk-toggleable__content\"><pre>LogisticRegression()</pre></div></div></div></div></div>"
      ],
      "text/plain": [
       "LogisticRegression()"
      ]
     },
     "execution_count": 20,
     "metadata": {},
     "output_type": "execute_result"
    }
   ],
   "source": [
    "#Train the model on the training data\n",
    "model.fit(X_train_bow, train_labels)"
   ]
  },
  {
   "cell_type": "code",
   "execution_count": 21,
   "id": "72b46874",
   "metadata": {},
   "outputs": [
    {
     "name": "stdout",
     "output_type": "stream",
     "text": [
      "X_train_bow shape: (25000, 5000)\n",
      "train_labels shape: (25000, 5000)\n"
     ]
    }
   ],
   "source": [
    "print(\"X_train_bow shape:\", X_train_bow.shape)\n",
    "print(\"train_labels shape:\", X_test_bow.shape)"
   ]
  },
  {
   "cell_type": "code",
   "execution_count": 22,
   "id": "816c07cf",
   "metadata": {},
   "outputs": [
    {
     "name": "stdout",
     "output_type": "stream",
     "text": [
      "Length of normalized_train_reviews_str: 25000\n",
      "Length of normalized_test_reviews_str: 25000\n"
     ]
    }
   ],
   "source": [
    "print(\"Length of normalized_train_reviews_str:\", len(normalized_train_reviews_str))\n",
    "print(\"Length of normalized_test_reviews_str:\", len(normalized_test_reviews_str))\n"
   ]
  },
  {
   "cell_type": "code",
   "execution_count": 25,
   "id": "fca8f264",
   "metadata": {},
   "outputs": [
    {
     "name": "stdout",
     "output_type": "stream",
     "text": [
      "Accuracy: 0.95964\n"
     ]
    }
   ],
   "source": [
    "# Evaluate the model on the testing data\n",
    "accuracy = model.score(X_test_bow, test_labels)\n",
    "print(\"Accuracy:\", accuracy)\n"
   ]
  },
  {
   "cell_type": "code",
   "execution_count": null,
   "id": "d1edd7d8",
   "metadata": {
    "scrolled": true
   },
   "outputs": [],
   "source": []
  },
  {
   "cell_type": "code",
   "execution_count": null,
   "id": "b398eae8",
   "metadata": {},
   "outputs": [],
   "source": []
  },
  {
   "cell_type": "code",
   "execution_count": null,
   "id": "7077fe7e",
   "metadata": {},
   "outputs": [],
   "source": []
  }
 ],
 "metadata": {
  "kernelspec": {
   "display_name": "Python 3 (ipykernel)",
   "language": "python",
   "name": "python3"
  },
  "language_info": {
   "codemirror_mode": {
    "name": "ipython",
    "version": 3
   },
   "file_extension": ".py",
   "mimetype": "text/x-python",
   "name": "python",
   "nbconvert_exporter": "python",
   "pygments_lexer": "ipython3",
   "version": "3.11.5"
  }
 },
 "nbformat": 4,
 "nbformat_minor": 5
}
